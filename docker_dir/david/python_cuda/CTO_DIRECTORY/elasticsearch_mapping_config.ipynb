{
 "cells": [
  {
   "cell_type": "code",
   "execution_count": 1,
   "metadata": {},
   "outputs": [],
   "source": [
    "import json\n",
    "from elasticsearch import Elasticsearch\n",
    "from elasticsearch import helpers"
   ]
  },
  {
   "cell_type": "code",
   "execution_count": 2,
   "metadata": {},
   "outputs": [],
   "source": [
    "es = Elasticsearch(\n",
    "    ['192.168.2.12:9200'],\n",
    "    http_auth=('elastic', 'elastic1')\n",
    ")"
   ]
  },
  {
   "cell_type": "code",
   "execution_count": 3,
   "metadata": {},
   "outputs": [],
   "source": [
    "request_body = {\n",
    "    \"mappings\" : {\n",
    "        \"_doc\":{\n",
    "            \"properties\":{\n",
    "                \"@timestamp\":{\n",
    "                     \"type\": \"date\"\n",
    "                 },\n",
    "                \"bps\":{\n",
    "                    \"type\": \"float\"\n",
    "                }\n",
    "            }\n",
    "            \n",
    "         }\n",
    "    }\n",
    "}"
   ]
  },
  {
   "cell_type": "code",
   "execution_count": 4,
   "metadata": {},
   "outputs": [],
   "source": [
    "# res = es.indices.delete(index='hcn-sample-for-ml', ignore=[400, 404])\n",
    "# res = es.indices.create(index = 'hcn-sample-for-ml', body = request_body)"
   ]
  },
  {
   "cell_type": "code",
   "execution_count": 5,
   "metadata": {},
   "outputs": [],
   "source": [
    "# dataset_value = dataset.as_matrix()"
   ]
  },
  {
   "cell_type": "code",
   "execution_count": 6,
   "metadata": {},
   "outputs": [],
   "source": [
    "# import datetime, time\n",
    "\n",
    "# outer_list = []\n",
    "# for i in dataset_value:\n",
    "#     xx = datetime.datetime.strptime(i[0], '%Y-%m-%d %H:%M:%S')\n",
    "#     output = {\n",
    "#         '@timestamp': None,\n",
    "#         'bps': None\n",
    "#     }\n",
    "#     output['@timestamp'] = xx.isoformat() + 'Z'\n",
    "#     output['bps'] = i[1]\n",
    "#     action = {\"_index\": \"hcn-sample-for-ml\", \"_type\": \"_doc\", '_source': output}\n",
    "#     outer_list.append(action)"
   ]
  },
  {
   "cell_type": "code",
   "execution_count": 7,
   "metadata": {},
   "outputs": [],
   "source": [
    "# helpers.bulk(es, outer_list)"
   ]
  },
  {
   "cell_type": "code",
   "execution_count": null,
   "metadata": {},
   "outputs": [],
   "source": []
  }
 ],
 "metadata": {
  "kernelspec": {
   "display_name": "Python 3",
   "language": "python",
   "name": "python3"
  },
  "language_info": {
   "codemirror_mode": {
    "name": "ipython",
    "version": 3
   },
   "file_extension": ".py",
   "mimetype": "text/x-python",
   "name": "python",
   "nbconvert_exporter": "python",
   "pygments_lexer": "ipython3",
   "version": "3.5.5"
  }
 },
 "nbformat": 4,
 "nbformat_minor": 2
}
